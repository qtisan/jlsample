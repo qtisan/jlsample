{
 "cells": [
  {
   "cell_type": "code",
   "execution_count": 1,
   "metadata": {},
   "outputs": [],
   "source": [
    "using SymbolicUtils\n",
    "using Symbolics\n",
    "using SymbolicNumericIntegration"
   ]
  },
  {
   "cell_type": "markdown",
   "metadata": {},
   "source": [
    "## Simplify\n"
   ]
  },
  {
   "cell_type": "code",
   "execution_count": 9,
   "metadata": {},
   "outputs": [
    {
     "data": {
      "text/latex": [
       "$$ \\begin{equation}\n",
       "\\sin^{2}\\left( w \\right) \\alpha + \\cos^{2}\\left( z \\right) \\alpha + \\sin^{2}\\left( w \\right) \\beta + \\cos^{2}\\left( z \\right) \\beta\n",
       "\\end{equation}\n",
       " $$"
      ],
      "text/plain": [
       "α*(sin(w)^2) + α*(cos(z)^2) + β*(sin(w)^2) + β*(cos(z)^2)"
      ]
     },
     "metadata": {},
     "output_type": "display_data"
    }
   ],
   "source": [
    "@syms w z α::Real β::Real\n",
    "\n",
    "expr1 = α*sin(w)^2 + β*cos(z)^2\n",
    "expr2 = α*cos(z)^2 + β*sin(w)^2\n",
    "\n",
    "expr1 + expr2 # α*(sin(w)^2) + α*(cos(z)^2) + β*(sin(w)^2) + β*(cos(z)^2)"
   ]
  },
  {
   "cell_type": "code",
   "execution_count": 10,
   "metadata": {},
   "outputs": [
    {
     "data": {
      "text/latex": [
       "$$ \\begin{equation}\n",
       "\\alpha - 3 z + 5 w\n",
       "\\end{equation}\n",
       " $$"
      ],
      "text/plain": [
       "α + 5w - 3z"
      ]
     },
     "metadata": {},
     "output_type": "display_data"
    }
   ],
   "source": [
    "2w + 3w - 3z + α"
   ]
  },
  {
   "cell_type": "code",
   "execution_count": 11,
   "metadata": {},
   "outputs": [
    {
     "data": {
      "text/latex": [
       "$$ \\begin{equation}\n",
       "N^{2} \\left( \\frac{-1}{K} + \\frac{1}{N} \\right)\n",
       "\\end{equation}\n",
       " $$"
      ],
      "text/plain": [
       "(N^2)*(-1 / K + 1 / N)"
      ]
     },
     "metadata": {},
     "output_type": "display_data"
    }
   ],
   "source": [
    "@syms N::Real K::Real\n",
    "\n",
    "(1//N-1//K)N^2"
   ]
  },
  {
   "cell_type": "code",
   "execution_count": 12,
   "metadata": {},
   "outputs": [
    {
     "data": {
      "text/latex": [
       "$$ \\begin{equation}\n",
       "\\frac{1}{N^{2} \\frac{-1}{K} + N^{2} \\frac{1}{N}}\n",
       "\\end{equation}\n",
       " $$"
      ],
      "text/plain": [
       "(1 / ((N^2)*(-1 / (K)) + (N^2)*(1 / (N))))"
      ]
     },
     "metadata": {},
     "output_type": "display_data"
    }
   ],
   "source": [
    "simplify_fractions(K//(K-N)N) # K / (N*(K - N))\n",
    "simplify_fractions((1//N-1//K)N^2) # (N*(K - N)) / K\n",
    "PolyForm(1//((1//N-1//K)N^2), recurse=true) # (1 / ((N^2)*(-1 / (K)) + (N^2)*(1 / (N))))"
   ]
  },
  {
   "cell_type": "markdown",
   "metadata": {},
   "source": [
    "## derivative"
   ]
  },
  {
   "cell_type": "code",
   "execution_count": 32,
   "metadata": {},
   "outputs": [
    {
     "data": {
      "text/latex": [
       "$$ \\begin{equation}\n",
       " - \\frac{2}{x^{2}}\n",
       "\\end{equation}\n",
       " $$"
      ],
      "text/plain": [
       "-2(x^-2)"
      ]
     },
     "metadata": {},
     "output_type": "display_data"
    }
   ],
   "source": [
    "@variables x y\n",
    "x\n",
    "D = Differential(x)\n",
    "f = 2log(x)\n",
    "# 求导\n",
    "f⁽¹⁾ = expand_derivatives(D(f)) |> simplify_fractions\n",
    "f⁽²⁾ = expand_derivatives(D(f⁽¹⁾)) |> simplify_fractions\n"
   ]
  },
  {
   "cell_type": "markdown",
   "metadata": {},
   "source": [
    "## integral"
   ]
  },
  {
   "cell_type": "code",
   "execution_count": 4,
   "metadata": {},
   "outputs": [
    {
     "data": {
      "text/plain": [
       "(-3log(x - 1), 0, 0.0)"
      ]
     },
     "metadata": {},
     "output_type": "display_data"
    }
   ],
   "source": [
    "@variables x y\n",
    "\n",
    "integrate(3/(1-x))"
   ]
  }
 ],
 "metadata": {
  "kernelspec": {
   "display_name": "Julia 1.8.2",
   "language": "julia",
   "name": "julia-1.8"
  },
  "language_info": {
   "file_extension": ".jl",
   "mimetype": "application/julia",
   "name": "julia",
   "version": "1.8.2"
  },
  "orig_nbformat": 4,
  "vscode": {
   "interpreter": {
    "hash": "d3f66140b290d2dec15ff536aabdfc002ee54ac234a2be283b9465b633b51849"
   }
  }
 },
 "nbformat": 4,
 "nbformat_minor": 2
}
