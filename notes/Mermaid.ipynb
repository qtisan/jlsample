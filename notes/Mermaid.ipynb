{
 "cells": [
  {
   "cell_type": "code",
   "execution_count": 14,
   "id": "fa01a10f-5e61-4381-b342-384848b8e9b2",
   "metadata": {},
   "outputs": [],
   "source": [
    "include(\"../src/Mermaid.jl\")"
   ]
  },
  {
   "cell_type": "code",
   "execution_count": 15,
   "id": "772300da-9e3e-48ea-8104-02e460022989",
   "metadata": {},
   "outputs": [
    {
     "data": {
      "text/html": [
       "<img src=\"https://mermaid.ink/img/CnN0YXRlRGlhZ3JhbS12MgogICAgc3RhdGUgZm9ya19zdGF0ZSA8PGZvcms+PgogICAgICAgIFsqXSAtLT4gZm9ya19zdGF0ZQogICAgICAgIGZvcmtfc3RhdGUgLS0+IFN0YXRlMgogICAgICAgIGZvcmtfc3RhdGUgLS0+IFN0YXRlMwoKICAgICAgICBzdGF0ZSBqb2luX3N0YXRlIDw8am9pbj4+CiAgICAgICAgU3RhdGUyIC0tPiBqb2luX3N0YXRlCiAgICAgICAgU3RhdGUzIC0tPiBqb2luX3N0YXRlCiAgICAgICAgam9pbl9zdGF0ZSAtLT4gU3RhdGU0CiAgICAgICAgU3RhdGU0IC0tPiBbKl0K\" />"
      ],
      "text/plain": [
       "<img src=\"https://mermaid.ink/img/CnN0YXRlRGlhZ3JhbS12MgogICAgc3RhdGUgZm9ya19zdGF0ZSA8PGZvcms+PgogICAgICAgIFsqXSAtLT4gZm9ya19zdGF0ZQogICAgICAgIGZvcmtfc3RhdGUgLS0+IFN0YXRlMgogICAgICAgIGZvcmtfc3RhdGUgLS0+IFN0YXRlMwoKICAgICAgICBzdGF0ZSBqb2luX3N0YXRlIDw8am9pbj4+CiAgICAgICAgU3RhdGUyIC0tPiBqb2luX3N0YXRlCiAgICAgICAgU3RhdGUzIC0tPiBqb2luX3N0YXRlCiAgICAgICAgam9pbl9zdGF0ZSAtLT4gU3RhdGU0CiAgICAgICAgU3RhdGU0IC0tPiBbKl0K\" />"
      ]
     },
     "execution_count": 15,
     "metadata": {},
     "output_type": "execute_result"
    }
   ],
   "source": [
    "Mermaid(\"\"\"\n",
    "stateDiagram-v2\n",
    "    state fork_state <<fork>>\n",
    "        [*] --> fork_state\n",
    "        fork_state --> State2\n",
    "        fork_state --> State3\n",
    "\n",
    "        state join_state <<join>>\n",
    "        State2 --> join_state\n",
    "        State3 --> join_state\n",
    "        join_state --> State4\n",
    "        State4 --> [*]\n",
    "\"\"\")"
   ]
  }
 ],
 "metadata": {
  "kernelspec": {
   "display_name": "Julia 1.8.2",
   "language": "julia",
   "name": "julia-1.8"
  },
  "language_info": {
   "file_extension": ".jl",
   "mimetype": "application/julia",
   "name": "julia",
   "version": "1.8.2"
  }
 },
 "nbformat": 4,
 "nbformat_minor": 5
}
