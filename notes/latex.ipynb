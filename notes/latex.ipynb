{
 "cells": [
  {
   "cell_type": "markdown",
   "metadata": {},
   "source": [
    "## 上标：\n",
    "$\\dot{a} \\ddot{a} \\acute{a} \\grave{a}$\n",
    "$\\check{a} \\breve{a} \\tilde{a} \\bar{a}$\n",
    "$\\hat{a} \\widehat{a} \\vec{a}$\n",
    "\n",
    "## 常用标准函数：\n",
    "### 指数：\n",
    "$\\exp_a b = a^b$\n",
    "$\\exp_b a = e^b$\n",
    "$10^m$\n",
    "\n",
    "### 三角：\n",
    "$\\sin a$   \n",
    "$\\cos b$   \n",
    "$\\tan c$\n",
    "$\\sec d$   \n",
    "$\\csc e$   \n",
    "$\\cot f$\n",
    "\n",
    "### 其余：\n",
    "$\\lvert a\\rvert$ \n",
    "\n",
    "$min(x,y)  \\max(x,y)$\n",
    "\n",
    "$\\operatorname{wuhu} a$\n",
    "\n",
    "### "
   ]
  }
 ],
 "metadata": {
  "kernelspec": {
   "display_name": "Python 3.9.5 64-bit ('3.9.5')",
   "language": "python",
   "name": "python3"
  },
  "language_info": {
   "name": "python",
   "version": "3.9.5"
  },
  "orig_nbformat": 4,
  "vscode": {
   "interpreter": {
    "hash": "d3f66140b290d2dec15ff536aabdfc002ee54ac234a2be283b9465b633b51849"
   }
  }
 },
 "nbformat": 4,
 "nbformat_minor": 2
}
