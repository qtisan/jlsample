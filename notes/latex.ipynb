{
 "cells": [
  {
   "cell_type": "markdown",
   "metadata": {},
   "source": [
    "## 上标：\n",
    "$\\dot{a} \\ddot{a} \\acute{a} \\grave{a}$\n",
    "$\\check{a} \\breve{a} \\tilde{a} \\bar{a}$\n",
    "$\\hat{a} \\widehat{a} \\vec{a}$\n",
    "\n",
    "## 常用标准函数：\n",
    "### 指数：\n",
    "$\\exp_a b = a^b$\n",
    "$\\exp_b a = e^b$\n",
    "$10^m$\n",
    "\n",
    "### 三角：\n",
    "$\\sin a$    \n",
    "$\\cos b$   \n",
    "$\\tan c$    \n",
    "$\\sec d$   \n",
    "$\\csc e$   \n",
    "$\\cot f$    \n",
    "$\\sinh g$   \n",
    "$\\arctan h$\n",
    "\n",
    "### 其余：\n",
    "$\\lvert a\\rvert$ \n",
    "\n",
    "$min(x,y)  \\max(x,y)$\n"
   ]
  },
  {
   "cell_type": "markdown",
   "metadata": {},
   "source": []
  },
  {
   "cell_type": "markdown",
   "metadata": {},
   "source": [
    "$dt\\ \\mathrm{d}t\\ \\partial t\\ \\nabla\\psi$\n",
    "$f' f'' f^{(3)}$"
   ]
  },
  {
   "cell_type": "markdown",
   "metadata": {},
   "source": [
    "\n",
    "$\\operatorname{func} x$\n",
    "\n",
    "$\\ker$ $\\phi$\n",
    "\n",
    "$\\lVert z\\rVert$\n",
    "\n",
    "## 微分与导数：\n",
    "$dt\\ \\mathrm{d}t\\ \\partial t\\ \\nabla\\psi$\n",
    "\n",
    "$f' f'' f''' f'''' f^{(3)}$"
   ]
  },
  {
   "cell_type": "markdown",
   "metadata": {},
   "source": [
    "\n",
    "## 运算：\n",
    "$a\\equiv b\\pmod{m}$\n",
    "\n",
    "$a\\bmod b$\n",
    "\n",
    "$\\mid$\n",
    "\n",
    "$a\\%b$\n",
    "\n",
    "### 奇怪的算符\n",
    "$\\surd \\sqrt{2} \\sqrt{5} \\sqrt[n]{} \\sqrt[n]{x}$\n",
    "\n",
    "$+ - \\pm \\mp$\n",
    "\n",
    "$\\times \\div \\backslash$\n",
    "\n",
    "$\\cdot * \\star \\circ \\bullet$\n",
    "\n",
    "### 或运算\n",
    "$\\bigoplus \\bigotimes \\bigodot$\n",
    "\n",
    "$\\{ \\} \\emptyset$\n",
    "\n",
    "$\\varnothing$\n",
    "\n",
    "### 比较\n",
    "$<\\ \\nless\\ \\ll\\ \\not\\ll\\ \\lll$\n"
   ]
  },
  {
   "cell_type": "markdown",
   "metadata": {},
   "source": [
    "## 集合\n",
    "$\\in\\ \\notin\\ \\not\\in\\ \\ni\\ \\not\\ni$\n",
    "\n",
    "$\\subseteq\\ \\nsupseteq\\ \\nsupseteqq$\n",
    "\n",
    "$\\sim\\ \\nsim\\ \\approx$"
   ]
  },
  {
   "cell_type": "markdown",
   "metadata": {},
   "source": [
    "## 几何符号\n",
    "$\\parallel\\ \\nparallel\\ \\perp\\ \\angle$\n",
    "\n",
    "$\\sphericalangle\\ \\measuredangle\\ 45^\\circ$\n",
    "\n",
    "## 逻辑符号\n",
    "$\\forall\\ \\exists\\ \\nexists$\n",
    "\n",
    "$\\therefore\\ \\because\\ \\And$\n"
   ]
  },
  {
   "cell_type": "markdown",
   "metadata": {},
   "source": [
    "## 箭头\n",
    "$\\Rightarrow\\ \\nRightarrow\\ \\Longrightarrow\\ \\implies$\n",
    "\n",
    "$\\rightharpoonup\\ \\rightharpoondown\\ \\leftharpoonup\\ \\leftharpoondown\\ \\upharpoonleft$\n",
    "\n",
    "$\\upharpoonright\\ \\downharpoonleft\\ \\downharpoonright\\ \\leftrightharpoons\\ \\rightleftharpoons$\n"
   ]
  },
  {
   "cell_type": "markdown",
   "metadata": {},
   "source": [
    "## 一些操作\n",
    "$a^2\\ a_{i,j}$ \n",
    "\n",
    "$a^2_{ij}$ \n",
    "\n",
    "${}^2_1\\!X^3_4$\n",
    "\n",
    "$\\vec{x}\\ \\overset{\\frown}{AB}$\n",
    "\n",
    "$\\overline{a}\\ \\underline{b}$\n"
   ]
  },
  {
   "cell_type": "markdown",
   "metadata": {},
   "source": [
    "## 希腊字符\n",
    "$\\Gamma\\Delta\\Theta$\n",
    "\n",
    "$\\Sigma\\Upsilon\\Phi\\Psi\\Omega$\n",
    "\n",
    "$\\alpha\\beta\\gamma\\delta\\epsilon\\zeta\\eta\\theta$\n",
    "\n",
    "$\\kappa\\lambda\\mu\\nu\\xi$\n",
    "\n",
    "$\\rho\\sigma\\tau\\upsilon\\phi\\chi\\psi\\omega$\n",
    "\n",
    "$\\varepsilon\\vartheta\\varkappa\\varphi$\n",
    "\n",
    "$\\overbrace{1+2+\\cdots+100}$  \n",
    "\n",
    "$\\begin{matrix}5050\\\\\\overbrace{1+2+\\cdots+100}\\end{matrix}$\n",
    "\n",
    "$\\begin{matrix}\\underbrace{1+2+\\cdots+100}\\\\5050\\end{matrix}$ \n",
    "\n",
    "$\\sum_{i=1}^na_i\\ \\sum\\limits_{i=1}^na_i$\n",
    "\n",
    "$\\prod_{i=1}^na_i\\ \\prod\\limits_{i=1}^na_i$\n",
    "\n",
    "$\\lim_{n\\to\\infty}x_n\\ \\lim\\limits_{n\\to\\infty}x_n$\n",
    "\n",
    "$\\int_{-N}^{N}e^x\\,dx$\n",
    "\n",
    "$\\iint_M^Ndx\\,dy$\n",
    "\n",
    "$\\iiint_M^Ndx\\,dy\\,dz$\n",
    "\n",
    "$\\oint_Cx^3\\,dx+4y^2\\,dy$\n",
    "\n",
    "$\\dfrac{1}{2}=0.5\\ \\dfrac{1}{x+\\dfrac{3}{y+\\dfrac{1}{5}}}$\n",
    "\n",
    "$\\binom{n}{m}=\\binom{n}{n-m}=C_n^m=C_n^{n-m}$\n"
   ]
  },
  {
   "cell_type": "markdown",
   "metadata": {},
   "source": [
    "\n",
    "## 矩阵\n",
    "$\\begin{vmatrix}a&b\\\\c&d\\end{vmatrix}$\n",
    "\n",
    "$\\begin{Vmatrix}a&b\\\\c&d\\end{Vmatrix}$\n",
    "\n",
    "$\\begin{bmatrix}a&\\cdots&b\\\\\\vdots&\\ddots&\\vdots\\\\c&\\cdots&d\\end{bmatrix}$\n",
    "\n",
    "$\\begin{Bmatrix}a&c\\\\b&d\\end{Bmatrix}$\n",
    "\n",
    "$\\begin{pmatrix}a&c\\\\b&d\\end{pmatrix}$\n",
    "\n",
    "$\\begin{vmatrix} \\begin{Bmatrix}A & \\\\ c & d \\end{Bmatrix} & x\\\\ \\dfrac{1}{2} & \\begin{matrix} 1 & 2 \\\\ 3 & 4 \\end{matrix} \\end{vmatrix}$ \n",
    "\n",
    "$f(x)=\\begin{cases}x-1&x\\leqslant3\\\\x^2+3x-1&x>3\\end{cases}$\n",
    "\n",
    "$\\begin{cases}2x+9y-5z=10\\\\4x+20y+z=24\\\\x-\\dfrac{1}{2}y+3z=8\\end{cases}$\n",
    "\n",
    "$\\begin{aligned}f(x) & = (x + 1)^2 \\\\ & = x^2 + 2x + 1\\end{aligned}$\n",
    "\n",
    "$\\begin{aligned}a_1 & = 1 \\\\ a_2 & = 2 \\\\ & \\dots \\\\ a_n & = n\\end{aligned}$ \n",
    "\n",
    "$\\begin{array}{|c|c||c|}x&y&z\\\\8&2&4\\\\2&3&9\\\\10&\\dfrac{3}{4}&\\sqrt{3}\\\\a&b&c\\end{array}$\n"
   ]
  },
  {
   "cell_type": "markdown",
   "metadata": {},
   "source": [
    "## 控制空格大小\n",
    "$x\\!y\\ xy\\ x\\,y\\ x\\;y\\ x\\ y\\ x\\quad y\\ x\\qquad y$"
   ]
  },
  {
   "cell_type": "markdown",
   "metadata": {},
   "source": [
    "\n",
    "## 匹配括号\n",
    "$\\left(\\dfrac{1}{2}\\right) \\left(\\dfrac{1}{x+\\dfrac{2}{3}}\\right)$\n",
    "\n",
    "$\\left[\\dfrac{1}{2}\\right]$\n",
    "\n",
    "$\\left\\{\\dfrac{1}{2}\\right\\}$\n",
    "\n",
    "$\\left\\langle\\dfrac{1}{2}\\right\\rangle$\n",
    "\n",
    "$\\left|\\dfrac{1}{2}\\right|$\n",
    "\n",
    "$\\left\\|\\dfrac{1}{2}\\right\\|$\n",
    "\n",
    "$\\left\\lfloor\\dfrac{1}{2}\\right\\rfloor$\n",
    "\n",
    "$\\left\\lceil\\dfrac{1}{2}\\right\\rceil$\n",
    "\n",
    "$\\left(\\dfrac{1}{2},1\\right]$\n",
    "\n",
    "### 控制括号的大小\n",
    "$\\Bigg(\\bigg[\\Big\\{\\big<x\\big>\\Big\\}\\bigg]\\Bigg)$\n",
    "\n",
    "### 将公式框起\n",
    "$$\\boxed{\\sum\\limits_{i = 1}^{n} i = \\dfrac{n(n - 1)}{2}}$$"
   ]
  }
 ],
 "metadata": {
  "kernelspec": {
   "display_name": "Python 3.9.5 64-bit ('3.9.5')",
   "language": "python",
   "name": "python3"
  },
  "language_info": {
   "name": "python",
   "version": "3.9.5"
  },
  "orig_nbformat": 4,
  "vscode": {
   "interpreter": {
    "hash": "d3f66140b290d2dec15ff536aabdfc002ee54ac234a2be283b9465b633b51849"
   }
  }
 },
 "nbformat": 4,
 "nbformat_minor": 2
}
