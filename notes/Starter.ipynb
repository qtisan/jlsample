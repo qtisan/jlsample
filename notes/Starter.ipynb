{
 "cells": [
  {
   "cell_type": "markdown",
   "metadata": {},
   "source": [
    "# Hello, Julia!\n",
    "\n",
    "I am a starter of `Julia`."
   ]
  },
  {
   "cell_type": "code",
   "execution_count": null,
   "metadata": {},
   "outputs": [],
   "source": [
    "welcome = \"Hello, Julia!\"\n",
    "println(welcome)"
   ]
  },
  {
   "cell_type": "code",
   "execution_count": null,
   "metadata": {},
   "outputs": [],
   "source": [
    "A = [1,2,.5]\n",
    "B = [2,2,2]\n",
    "A ≠ B"
   ]
  },
  {
   "cell_type": "code",
   "execution_count": null,
   "metadata": {},
   "outputs": [],
   "source": [
    "3angle(1+√3im)"
   ]
  },
  {
   "cell_type": "code",
   "execution_count": null,
   "metadata": {},
   "outputs": [],
   "source": [
    "a = 2 + Inf*im\n",
    "a^2"
   ]
  },
  {
   "cell_type": "markdown",
   "metadata": {},
   "source": [
    "## 数值计算"
   ]
  },
  {
   "cell_type": "code",
   "execution_count": null,
   "metadata": {},
   "outputs": [],
   "source": [
    "∞ = Inf\n",
    "3//7 == 3/7 # false\n",
    "3//4 == 3/4 # true\n",
    "1//0 == ∞ # true\n",
    "3//5 - 0.5 # 0.09999999999999998\n",
    "0.6 - 0.5 # 0.09999999999999998\n",
    "typeof(3//4) # Rational{Int64}\n",
    "float(3//10) == 3/10 # true\n",
    "0.5 - 0.6\n",
    "\n",
    "ℯ"
   ]
  },
  {
   "cell_type": "markdown",
   "metadata": {},
   "source": [
    "## 字符串"
   ]
  },
  {
   "cell_type": "code",
   "execution_count": null,
   "metadata": {},
   "outputs": [],
   "source": [
    "str = \"Hello, 世界！\"\n",
    "str[begin] # 'H': ASCII/Unicode U+0048 (category Lu: Letter, uppercase)\n",
    "str[end]\n",
    "println(\"lastindex(str)/$(lastindex(str)) == length(str)/$(length(str)): \\\n",
    "$(lastindex(str) == length(str))\") # lastindex(str)/14 == length(str)/10: false\n",
    "str[11] # '界': Unicode U+754C (category Lo: Letter, other)\n",
    "# str[12] # StringIndexError: invalid index [12], valid nearby indices [11]=>'界', [14]=>'！'\n",
    "str[nextind(str, 11)] # '！': Unicode U+FF01 (category Po: Punctuation, other)\n",
    "# str[10:14] # StringIndexError: invalid index [10], valid nearby indices [8]=>'世', [11]=>'界'\n",
    "str[prevind(str, 12, 2):nextind(str, 12)] # \"世界！\"\n",
    "\n",
    "c = match(r\"^\\s*(?:#|$)\", \"not a comment\")\n",
    "isnothing(c)"
   ]
  },
  {
   "cell_type": "markdown",
   "metadata": {},
   "source": [
    "## 函数"
   ]
  },
  {
   "cell_type": "code",
   "execution_count": null,
   "metadata": {},
   "outputs": [],
   "source": [
    "fx(g, x) = g(x)\n",
    "fx(3) do x\n",
    "    x^2\n",
    "end\n",
    "X = [10,100,1000]\n",
    "Y = [4,9,16]\n",
    "Z = [-10,-100,-1]\n",
    "sqrt.(log10.(X))\n",
    "X .|> log10 .|> sqrt\n",
    "broadcast!(sqrt, float(X), Y)\n",
    "@. X |> log10 |> sqrt\n",
    "[1:5;] .|> [x->x^2, sqrt, x->2*x, -, isodd]\n",
    "\n",
    "# argument edit?\n",
    "mutable struct People \n",
    "    name::String\n",
    "end\n",
    "pp = People(\"Zhang\")\n",
    "# here we need not make `changename!()`, `People` is mutable\n",
    "changename(people::People) = (people.name = \"Lee\")\n",
    "changename(pp)\n",
    "pp\n"
   ]
  },
  {
   "cell_type": "markdown",
   "metadata": {},
   "source": [
    "## 流程控制"
   ]
  },
  {
   "cell_type": "code",
   "execution_count": null,
   "metadata": {},
   "outputs": [],
   "source": [
    "for i ∈ [1:5;]\n",
    "    print(i^2, \",\")\n",
    "end\n",
    "for (j, k) in zip([1 2 3], [4 5 6 7])\n",
    "    print((j,k), \",\")\n",
    "end\n",
    "println()\n",
    "for i = 1:3:20\n",
    "    print(i, \",\")\n",
    "end\n"
   ]
  },
  {
   "cell_type": "markdown",
   "metadata": {},
   "source": [
    "## 复合类型"
   ]
  },
  {
   "cell_type": "code",
   "execution_count": null,
   "metadata": {},
   "outputs": [],
   "source": [
    "mutable struct Foo\n",
    "    bar\n",
    "    baz::Int\n",
    "    qux::Float64\n",
    "end\n",
    "foo = Foo(\"hello\", 1, 0.33)\n",
    "\n",
    "T::DataType = typeof(foo.bar) \n",
    "FI = Union{Foo, Int}\n",
    "foo1::FI = Foo(1,2,3)\n",
    "foo2::FI = 5"
   ]
  },
  {
   "cell_type": "code",
   "execution_count": null,
   "metadata": {},
   "outputs": [],
   "source": [
    "for p in fieldnames(Foo)\n",
    "    print(p, \", type: \", typeof(p), \"|\")\n",
    "end\n",
    "# bar, type: Symbol|baz, type: Symbol|qux, type: Symbol|\n",
    "foo1 = 8\n",
    "foo2 = Foo(6,6,6)\n",
    "print(\"\\n\", foo1, \" | \", foo2)\n"
   ]
  },
  {
   "cell_type": "code",
   "execution_count": null,
   "metadata": {
    "notebookRunGroups": {
     "groupValue": ""
    }
   },
   "outputs": [],
   "source": [
    "struct Point{T}\n",
    "    x::T\n",
    "    y::T\n",
    "end\n",
    "# function norm(p::Point{T} where T<:Real)\n",
    "# function norm(p::Point{T}) where T<:Real\n",
    "function norm(p::Point{<:Real})\n",
    "    sqrt(p.x^2 + p.y^2)\n",
    "end\n",
    "Point(1.0,2.0) |> norm\n",
    "Point(3,4) |> norm\n",
    "\n",
    "mytupletype = Tuple{AbstractString,Vararg{Int}}\n",
    "isa((\"1\",1,2,3.0), mytupletype)"
   ]
  },
  {
   "cell_type": "code",
   "execution_count": 22,
   "metadata": {},
   "outputs": [
    {
     "data": {
      "text/html": [
       "<code>Polar{Float64}</code> complex number: 3.0 <i>e</i><sup>4.0 <i>i</i></sup>\n"
      ],
      "text/plain": [
       "Polar{Float64} complex number:\n",
       "   3.0 * exp(4.0im)"
      ]
     },
     "metadata": {},
     "output_type": "display_data"
    }
   ],
   "source": [
    "\n",
    "struct Polar{T<:Real} <: Number\n",
    "    r::T\n",
    "    Θ::T\n",
    "end\n",
    "Polar(r::Real,Θ::Real) = Polar(promote(r,Θ)...)\n",
    "Base.show(io::IO, z::Polar) = print(io, z.r, \" * exp(\", z.Θ, \"im)\")\n",
    "Base.show(io::IO, ::MIME\"text/plain\", z::Polar{T}) where{T} = print(io, \"Polar{$T} complex number:\\n   \", z)\n",
    "\n",
    "Base.show(io::IO, ::MIME\"text/html\", z::Polar{T}) where {T} =\n",
    "           println(io, \"<code>Polar{$T}</code> complex number: \",\n",
    "                   z.r, \" <i>e</i><sup>\", z.Θ, \" <i>i</i></sup>\")\n",
    "\n",
    "\n",
    "Polar(3, 4.0)"
   ]
  },
  {
   "cell_type": "markdown",
   "metadata": {},
   "source": [
    "## Profile"
   ]
  },
  {
   "cell_type": "code",
   "execution_count": null,
   "metadata": {},
   "outputs": [],
   "source": [
    "using Profile\n",
    "\n",
    "fx() = for i=1:10000; sum(1/n^4 for n=1:10000); end\n",
    "@time fx()\n"
   ]
  },
  {
   "cell_type": "markdown",
   "metadata": {},
   "source": [
    "## Using `Gadfly`"
   ]
  },
  {
   "cell_type": "code",
   "execution_count": null,
   "metadata": {},
   "outputs": [],
   "source": [
    "using Gadfly, RDatasets\n",
    "\n",
    "iris = dataset(\"datasets\", \"iris\")\n",
    "theme1 = Theme(key_position=:none)\n",
    "fig1a = plot(iris, x=:SepalLength, y=:SepalWidth, color=:Species, theme1,\n",
    "          alpha=[0.6], size=:PetalLength, Scale.size_area(maxvalue=7))\n",
    "fig1b = plot(iris, x=:SepalLength, color=:Species, Geom.density,\n",
    "          Guide.ylabel(\"density\"), Coord.cartesian(xmin=4, xmax=8), theme1)\n",
    "vstack(fig1a,fig1b)"
   ]
  },
  {
   "cell_type": "markdown",
   "metadata": {},
   "source": [
    "## Make `Mermaid`"
   ]
  },
  {
   "cell_type": "code",
   "execution_count": 27,
   "metadata": {},
   "outputs": [
    {
     "data": {
      "text/html": [
       "<img src=\"https://mermaid.ink/img/CnN0YXRlRGlhZ3JhbS12MgogICAgc3RhdGUgZm9ya19zdGF0ZSA8PGZvcms+PgogICAgICAgIFsqXSAtLT4gZm9ya19zdGF0ZQogICAgICAgIGZvcmtfc3RhdGUgLS0+IFN0YXRlMgogICAgICAgIGZvcmtfc3RhdGUgLS0+IFN0YXRlMwoKICAgICAgICBzdGF0ZSBqb2luX3N0YXRlIDw8am9pbj4+CiAgICAgICAgU3RhdGUyIC0tPiBqb2luX3N0YXRlCiAgICAgICAgU3RhdGUzIC0tPiBqb2luX3N0YXRlCiAgICAgICAgam9pbl9zdGF0ZSAtLT4gU3RhdGU0CiAgICAgICAgU3RhdGU0IC0tPiBbKl0K\" />"
      ],
      "text/plain": [
       "<img src=\"https://mermaid.ink/img/CnN0YXRlRGlhZ3JhbS12MgogICAgc3RhdGUgZm9ya19zdGF0ZSA8PGZvcms+PgogICAgICAgIFsqXSAtLT4gZm9ya19zdGF0ZQogICAgICAgIGZvcmtfc3RhdGUgLS0+IFN0YXRlMgogICAgICAgIGZvcmtfc3RhdGUgLS0+IFN0YXRlMwoKICAgICAgICBzdGF0ZSBqb2luX3N0YXRlIDw8am9pbj4+CiAgICAgICAgU3RhdGUyIC0tPiBqb2luX3N0YXRlCiAgICAgICAgU3RhdGUzIC0tPiBqb2luX3N0YXRlCiAgICAgICAgam9pbl9zdGF0ZSAtLT4gU3RhdGU0CiAgICAgICAgU3RhdGU0IC0tPiBbKl0K\" />"
      ]
     },
     "metadata": {},
     "output_type": "display_data"
    }
   ],
   "source": [
    "import Base64.base64encode\n",
    "struct Mermaid\n",
    "    diagram::String\n",
    "end\n",
    "Base.show(io::IO, mm::Mermaid) = begin\n",
    "    q = base64encode(\"\\n$(mm.diagram)\")\n",
    "    url = \"https://mermaid.ink/img/$(q)\"\n",
    "    print(io, \"<img src=\\\"$(url)\\\" />\")\n",
    "end\n",
    "Base.show(io::IO, ::MIME\"text/html\", mm::Mermaid) = Base.show(io, mm)\n",
    "\n",
    "Mermaid(\"\"\"\n",
    "stateDiagram-v2\n",
    "    state fork_state <<fork>>\n",
    "        [*] --> fork_state\n",
    "        fork_state --> State2\n",
    "        fork_state --> State3\n",
    "\n",
    "        state join_state <<join>>\n",
    "        State2 --> join_state\n",
    "        State3 --> join_state\n",
    "        join_state --> State4\n",
    "        State4 --> [*]\n",
    "\"\"\")\n"
   ]
  }
 ],
 "metadata": {
  "kernelspec": {
   "display_name": "Julia 1.8.2",
   "language": "julia",
   "name": "julia-1.8"
  },
  "language_info": {
   "file_extension": ".jl",
   "mimetype": "application/julia",
   "name": "julia",
   "version": "1.8.2"
  },
  "vscode": {
   "interpreter": {
    "hash": "d3f66140b290d2dec15ff536aabdfc002ee54ac234a2be283b9465b633b51849"
   }
  }
 },
 "nbformat": 4,
 "nbformat_minor": 4
}
